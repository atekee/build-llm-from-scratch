{
 "cells": [
  {
   "cell_type": "code",
   "execution_count": 1,
   "metadata": {},
   "outputs": [
    {
     "data": {
      "text/plain": [
       "tensor([[ 0.3065,  0.0759,  0.2365,  0.0590],\n",
       "        [ 0.2135,  0.0162,  0.1853,  0.0594],\n",
       "        [ 0.0860,  0.0463,  0.1133,  0.0234],\n",
       "        [ 0.1064, -0.0053,  0.1302,  0.0448],\n",
       "        [ 0.1318, -0.0085,  0.1506,  0.0524],\n",
       "        [ 0.1582, -0.0081,  0.1634,  0.0571],\n",
       "        [ 0.1902, -0.0329,  0.1825,  0.0725],\n",
       "        [ 0.2256,  0.0207,  0.1926,  0.0605],\n",
       "        [ 0.2254,  0.0321,  0.1905,  0.0560],\n",
       "        [ 0.2748,  0.0667,  0.2173,  0.0566],\n",
       "        [ 0.1033, -0.0084,  0.1316,  0.0457],\n",
       "        [ 0.1744, -0.0056,  0.1694,  0.0594],\n",
       "        [ 0.2068,  0.0086,  0.1876,  0.0614],\n",
       "        [ 0.3766,  0.1047,  0.2751,  0.0653],\n",
       "        [ 0.1939,  0.0235,  0.1728,  0.0529],\n",
       "        [ 0.1221,  0.0351,  0.1379,  0.0364],\n",
       "        [ 0.1040, -0.0028,  0.1304,  0.0439],\n",
       "        [ 0.1638, -0.0215,  0.1695,  0.0632],\n",
       "        [ 0.1926,  0.0059,  0.1807,  0.0596],\n",
       "        [ 0.0551, -0.0087,  0.1037,  0.0362]], grad_fn=<MmBackward0>)"
      ]
     },
     "execution_count": 1,
     "metadata": {},
     "output_type": "execute_result"
    }
   ],
   "source": [
    "import torch\n",
    "from usta_model import UstaModel\n",
    "from usta_tokenizer import UstaTokenizer\n",
    "\n",
    "u_tokenizer = UstaTokenizer(\"tokenizer.json\")\n",
    "\n",
    "prompt = \"the capital of united states and the capital of france\"\n",
    "\n",
    "tokens = u_tokenizer.encode(prompt)\n",
    "\n",
    "torch.manual_seed(1)\n",
    "u_model = UstaModel(vocab_size=len(u_tokenizer.vocab), embedding_dim=4, context_length=32)\n",
    "\n",
    "sentence_meanings_with_atention_context = u_model(tokens)\n",
    "sentence_meanings_with_atention_context"
   ]
  },
  {
   "cell_type": "code",
   "execution_count": 2,
   "metadata": {},
   "outputs": [
    {
     "name": "stderr",
     "output_type": "stream",
     "text": [
      "/Users/alibayram/.pyenv/versions/3.13.3/lib/python3.13/site-packages/tqdm/auto.py:21: TqdmWarning: IProgress not found. Please update jupyter and ipywidgets. See https://ipywidgets.readthedocs.io/en/stable/user_install.html\n",
      "  from .autonotebook import tqdm as notebook_tqdm\n"
     ]
    },
    {
     "data": {
      "text/plain": [
       "(UstaModel(\n",
       "   (embedding): Embedding(64, 4)\n",
       "   (pos_embedding): Embedding(32, 4)\n",
       "   (self_attention): UstaSelfAttention(\n",
       "     (q_weights): Linear(in_features=4, out_features=4, bias=False)\n",
       "     (k_weights): Linear(in_features=4, out_features=4, bias=False)\n",
       "     (v_weights): Linear(in_features=4, out_features=4, bias=False)\n",
       "   )\n",
       " ),\n",
       " Gemma3ForCausalLM(\n",
       "   (model): Gemma3TextModel(\n",
       "     (embed_tokens): Gemma3TextScaledWordEmbedding(262144, 1152, padding_idx=0)\n",
       "     (layers): ModuleList(\n",
       "       (0-25): 26 x Gemma3DecoderLayer(\n",
       "         (self_attn): Gemma3Attention(\n",
       "           (q_proj): Linear(in_features=1152, out_features=1024, bias=False)\n",
       "           (k_proj): Linear(in_features=1152, out_features=256, bias=False)\n",
       "           (v_proj): Linear(in_features=1152, out_features=256, bias=False)\n",
       "           (o_proj): Linear(in_features=1024, out_features=1152, bias=False)\n",
       "           (q_norm): Gemma3RMSNorm((256,), eps=1e-06)\n",
       "           (k_norm): Gemma3RMSNorm((256,), eps=1e-06)\n",
       "         )\n",
       "         (mlp): Gemma3MLP(\n",
       "           (gate_proj): Linear(in_features=1152, out_features=6912, bias=False)\n",
       "           (up_proj): Linear(in_features=1152, out_features=6912, bias=False)\n",
       "           (down_proj): Linear(in_features=6912, out_features=1152, bias=False)\n",
       "           (act_fn): PytorchGELUTanh()\n",
       "         )\n",
       "         (input_layernorm): Gemma3RMSNorm((1152,), eps=1e-06)\n",
       "         (post_attention_layernorm): Gemma3RMSNorm((1152,), eps=1e-06)\n",
       "         (pre_feedforward_layernorm): Gemma3RMSNorm((1152,), eps=1e-06)\n",
       "         (post_feedforward_layernorm): Gemma3RMSNorm((1152,), eps=1e-06)\n",
       "       )\n",
       "     )\n",
       "     (norm): Gemma3RMSNorm((1152,), eps=1e-06)\n",
       "     (rotary_emb): Gemma3RotaryEmbedding()\n",
       "     (rotary_emb_local): Gemma3RotaryEmbedding()\n",
       "   )\n",
       "   (lm_head): Linear(in_features=1152, out_features=262144, bias=False)\n",
       " ))"
      ]
     },
     "execution_count": 2,
     "metadata": {},
     "output_type": "execute_result"
    }
   ],
   "source": [
    "from transformers import Gemma3ForCausalLM\n",
    "\n",
    "gemma_model = Gemma3ForCausalLM.from_pretrained(\"google/gemma-3-1b-it\")\n",
    "u_model, gemma_model"
   ]
  },
  {
   "cell_type": "markdown",
   "metadata": {},
   "source": [
    "![image.png](https://lena-voita.github.io/resources/lectures/seq2seq/transformer/qkv_attention_formula-min.png)"
   ]
  },
  {
   "cell_type": "code",
   "execution_count": 13,
   "metadata": {},
   "outputs": [
    {
     "name": "stdout",
     "output_type": "stream",
     "text": [
      "Parameter containing:\n",
      "tensor([[ 0.0599,  0.3966, -0.2142, -0.3045],\n",
      "        [-0.3192, -0.2204, -0.1727, -0.1165],\n",
      "        [-0.2844,  0.1563,  0.0041, -0.3267]], requires_grad=True)\n"
     ]
    },
    {
     "data": {
      "text/plain": [
       "(torch.Size([20, 3]), torch.Size([20, 3]), torch.Size([20, 3]))"
      ]
     },
     "execution_count": 13,
     "metadata": {},
     "output_type": "execute_result"
    }
   ],
   "source": [
    "q_weights = torch.nn.Linear(4, 3, bias=False)\n",
    "k_weights = torch.nn.Linear(4, 3, bias=False)\n",
    "v_weights = torch.nn.Linear(4, 3, bias=False)\n",
    "\n",
    "q_of_sentence = q_weights(sentence_meanings_with_atention_context)\n",
    "k_of_sentence = k_weights(sentence_meanings_with_atention_context)\n",
    "v_of_sentence = v_weights(sentence_meanings_with_atention_context)\n",
    "print(q_weights.weight)\n",
    "\n",
    "q_of_sentence.shape, k_of_sentence.shape, v_of_sentence.shape"
   ]
  },
  {
   "cell_type": "code",
   "execution_count": 16,
   "metadata": {},
   "outputs": [
    {
     "data": {
      "text/plain": [
       "torch.Size([20, 3])"
      ]
     },
     "execution_count": 16,
     "metadata": {},
     "output_type": "execute_result"
    }
   ],
   "source": [
    "k_of_sentence.shape"
   ]
  },
  {
   "cell_type": "code",
   "execution_count": 17,
   "metadata": {},
   "outputs": [
    {
     "data": {
      "text/plain": [
       "tensor([[ 0.1118,  0.0526, -0.0789],\n",
       "        [ 0.1257,  0.0630,  0.0137],\n",
       "        [ 0.1392,  0.0411,  0.0395],\n",
       "        [ 0.1361,  0.0693,  0.0698],\n",
       "        [ 0.1374,  0.0636,  0.0621],\n",
       "        [ 0.1278,  0.0738,  0.0352],\n",
       "        [ 0.1415,  0.0673,  0.0888],\n",
       "        [ 0.1249,  0.0610,  0.0059],\n",
       "        [ 0.1153,  0.0679, -0.0287],\n",
       "        [ 0.1416,  0.0176,  0.0157],\n",
       "        [ 0.1362,  0.0697,  0.0685],\n",
       "        [ 0.1318,  0.0673,  0.0461],\n",
       "        [ 0.1253,  0.0659,  0.0119],\n",
       "        [ 0.1361,  0.0099, -0.0285],\n",
       "        [ 0.1304,  0.0552,  0.0239],\n",
       "        [ 0.1568,  0.0170,  0.0844],\n",
       "        [ 0.1382,  0.0645,  0.0707],\n",
       "        [ 0.1311,  0.0754,  0.0519],\n",
       "        [ 0.1278,  0.0647,  0.0211],\n",
       "        [ 0.1559,  0.0530,  0.1314]], grad_fn=<MmBackward0>)"
      ]
     },
     "execution_count": 17,
     "metadata": {},
     "output_type": "execute_result"
    }
   ],
   "source": [
    "attention_scores = q_of_sentence @ k_of_sentence.T\n",
    "attention_weights = torch.softmax(attention_scores / k_of_sentence.shape[-1] ** 0.5, dim=1)\n",
    "\n",
    "context_vector = attention_weights @ v_of_sentence\n",
    "context_vector"
   ]
  },
  {
   "cell_type": "code",
   "execution_count": 19,
   "metadata": {},
   "outputs": [
    {
     "data": {
      "application/vnd.plotly.v1+json": {
       "config": {
        "linkText": "Export to plot.ly",
        "plotlyServerURL": "https://plot.ly",
        "showLink": false
       },
       "data": [
        {
         "hoverinfo": "text",
         "marker": {
          "color": "blue",
          "size": 6
         },
         "mode": "markers+text",
         "text": [
          "the",
          " ",
          "capital",
          " ",
          "of",
          " ",
          "united",
          " ",
          "state",
          "s",
          " ",
          "and",
          " ",
          "the",
          " ",
          "capital",
          " ",
          "of",
          " ",
          "france"
         ],
         "type": "scatter3d",
         "x": {
          "bdata": "2ut2PloCmD12Qso+z8sfvav9Qb0gVlO+CZHvvJSJwj2dCAO9UCpeP1z4uL1yVTu9Q9N7vebVij8jA2A+4oc8P6S4FDw/kXm+NGxKvaVRhT4=",
          "dtype": "f4"
         },
         "y": {
          "bdata": "7+dzPxjbeD5vc7+94ZZevmvIWL4/t5s9MpzPvsHzlj5RpR0/WRUjPZ4VYL4jTgS92ox4Pi3ozj6BhP099vIav1WmhL7a3oO9tHgePpVMWb8=",
          "dtype": "f4"
         },
         "z": {
          "bdata": "4P9WP1A8/zzsVX0+Xx5rvu52Cj4d7QM+p3levk4zBz5hpXg+OVf3PuhM0L1kly+82mKHPv79ZT+kdqg8vTGPPiK27L1cwKw9GSWGPlw77L4=",
          "dtype": "f4"
         }
        },
        {
         "hoverinfo": "text",
         "marker": {
          "color": "purple",
          "size": 6
         },
         "mode": "markers+text",
         "text": [
          "the",
          " ",
          "capital",
          " ",
          "of",
          " ",
          "united",
          " ",
          "state",
          "s",
          " ",
          "and",
          " ",
          "the",
          " ",
          "capital",
          " ",
          "of",
          " ",
          "france"
         ],
         "type": "scatter3d",
         "x": {
          "bdata": "lrdVvnj9Fz0/GGa/7BGGvjv34Dyv14Y9hkQiPynvdD2wIzC++KbLPGDrX76EeBg+ZB8OPkOEdz1DLta9O82YvqSShL6EJ5U+vEj5PZTow74=",
          "dtype": "f4"
         },
         "y": {
          "bdata": "o8dlP9FxwT4Z8TE+Gu+HvAalA79TI/i90Qk/v9xTtz47HlM/UFCovXkBQr67cgS+oicePWvuJj6yH6M+N/9Uv6k/Or7uZdm+sWy3vVssIr8=",
          "dtype": "f4"
         },
         "z": {
          "bdata": "6JrHvaU6vT2ije++OF73vUJL073GX1i9hrqXPixJsj0l0+a8CeTNPWzOI75CdHU9JQeuPHKQAD5/nQk9CuZLvnouIb47mAo9iRHEu/bNM74=",
          "dtype": "f4"
         }
        },
        {
         "hoverinfo": "text",
         "marker": {
          "color": "orange",
          "size": 6
         },
         "mode": "markers+text",
         "text": [
          "the",
          " ",
          "capital",
          " ",
          "of",
          " ",
          "united",
          " ",
          "state",
          "s",
          " ",
          "and",
          " ",
          "the",
          " ",
          "capital",
          " ",
          "of",
          " ",
          "france"
         ],
         "type": "scatter3d",
         "x": {
          "bdata": "L0saPjWz+r0I9CU9iDk0vnfmlz7Q9MM9HPOHPhRHOL3BznC+QUkEPygU7bxI23E9m88ZPqssNz+j47u9A70kP1u1zLx2C2I+ZOBQPuv7trs=",
          "dtype": "f4"
         },
         "y": {
          "bdata": "bwTYvQXgED6ZvT4/VgqWPqZXqb7gXtG++w7Ivh+Mbj0GY549Yqv8PnjXVz0UiyC+pmu5vsku1j4Chbw+/m/5PphZSj598x2/lXu/vk/sNj8=",
          "dtype": "f4"
         },
         "z": {
          "bdata": "sNVXv4/Szr4b89U+2Qx9Pmf26z74LKY9z9mJPqL51b5GTC+/iXQGvqg0vj7HmKQ8jhMpvhBR9L7G2IW+RodfP+o3wz7QPlo+P1QAvdtVaT8=",
          "dtype": "f4"
         }
        },
        {
         "hoverinfo": "text",
         "marker": {
          "color": "green",
          "size": 6
         },
         "mode": "markers+text",
         "text": [
          "the",
          " ",
          "capital",
          " ",
          "of",
          " ",
          "united",
          " ",
          "state",
          "s",
          " ",
          "and",
          " ",
          "the",
          " ",
          "capital",
          " ",
          "of",
          " ",
          "france"
         ],
         "type": "scatter3d",
         "x": {
          "bdata": "qevkPWWuAD64iw4+YmELPq21DD4U1QI++uwQPjrP/z0UKew9wwIRPlJvCz5U/QY+sUkAPt5ZCz49iAU+GokgPtePDT7VOQY+fOECPqycHz4=",
          "dtype": "f4"
         },
         "y": {
          "bdata": "11xXPT8JgT08Jig9ot6NPcU0gj0vFpc9t9CJPYDceT07Jos9XMWPPIPMjj1TxYk9IwaHPaKOITy+IGI9mxqLPLEohD1ohZo9F2yEPbkOWT0=",
          "dtype": "f4"
         },
         "z": {
          "bdata": "OIKhvfDgXzz5uCE999uOPQpRfj0MQxA9SNS1PbbqwDuC5+q8+rSAPMk+jD0S1jw92G5CPBFi6by13MM8q9qsPcnjkD3LgVQ99cGsPOCTBj4=",
          "dtype": "f4"
         }
        }
       ],
       "layout": {
        "height": 1000,
        "scene": {
         "xaxis": {
          "title": {
           "text": "Hardness"
          }
         },
         "yaxis": {
          "title": {
           "text": "Brightness"
          }
         },
         "zaxis": {
          "title": {
           "text": "Redness"
          }
         }
        },
        "template": {
         "data": {
          "bar": [
           {
            "error_x": {
             "color": "#2a3f5f"
            },
            "error_y": {
             "color": "#2a3f5f"
            },
            "marker": {
             "line": {
              "color": "#E5ECF6",
              "width": 0.5
             },
             "pattern": {
              "fillmode": "overlay",
              "size": 10,
              "solidity": 0.2
             }
            },
            "type": "bar"
           }
          ],
          "barpolar": [
           {
            "marker": {
             "line": {
              "color": "#E5ECF6",
              "width": 0.5
             },
             "pattern": {
              "fillmode": "overlay",
              "size": 10,
              "solidity": 0.2
             }
            },
            "type": "barpolar"
           }
          ],
          "carpet": [
           {
            "aaxis": {
             "endlinecolor": "#2a3f5f",
             "gridcolor": "white",
             "linecolor": "white",
             "minorgridcolor": "white",
             "startlinecolor": "#2a3f5f"
            },
            "baxis": {
             "endlinecolor": "#2a3f5f",
             "gridcolor": "white",
             "linecolor": "white",
             "minorgridcolor": "white",
             "startlinecolor": "#2a3f5f"
            },
            "type": "carpet"
           }
          ],
          "choropleth": [
           {
            "colorbar": {
             "outlinewidth": 0,
             "ticks": ""
            },
            "type": "choropleth"
           }
          ],
          "contour": [
           {
            "colorbar": {
             "outlinewidth": 0,
             "ticks": ""
            },
            "colorscale": [
             [
              0,
              "#0d0887"
             ],
             [
              0.1111111111111111,
              "#46039f"
             ],
             [
              0.2222222222222222,
              "#7201a8"
             ],
             [
              0.3333333333333333,
              "#9c179e"
             ],
             [
              0.4444444444444444,
              "#bd3786"
             ],
             [
              0.5555555555555556,
              "#d8576b"
             ],
             [
              0.6666666666666666,
              "#ed7953"
             ],
             [
              0.7777777777777778,
              "#fb9f3a"
             ],
             [
              0.8888888888888888,
              "#fdca26"
             ],
             [
              1,
              "#f0f921"
             ]
            ],
            "type": "contour"
           }
          ],
          "contourcarpet": [
           {
            "colorbar": {
             "outlinewidth": 0,
             "ticks": ""
            },
            "type": "contourcarpet"
           }
          ],
          "heatmap": [
           {
            "colorbar": {
             "outlinewidth": 0,
             "ticks": ""
            },
            "colorscale": [
             [
              0,
              "#0d0887"
             ],
             [
              0.1111111111111111,
              "#46039f"
             ],
             [
              0.2222222222222222,
              "#7201a8"
             ],
             [
              0.3333333333333333,
              "#9c179e"
             ],
             [
              0.4444444444444444,
              "#bd3786"
             ],
             [
              0.5555555555555556,
              "#d8576b"
             ],
             [
              0.6666666666666666,
              "#ed7953"
             ],
             [
              0.7777777777777778,
              "#fb9f3a"
             ],
             [
              0.8888888888888888,
              "#fdca26"
             ],
             [
              1,
              "#f0f921"
             ]
            ],
            "type": "heatmap"
           }
          ],
          "histogram": [
           {
            "marker": {
             "pattern": {
              "fillmode": "overlay",
              "size": 10,
              "solidity": 0.2
             }
            },
            "type": "histogram"
           }
          ],
          "histogram2d": [
           {
            "colorbar": {
             "outlinewidth": 0,
             "ticks": ""
            },
            "colorscale": [
             [
              0,
              "#0d0887"
             ],
             [
              0.1111111111111111,
              "#46039f"
             ],
             [
              0.2222222222222222,
              "#7201a8"
             ],
             [
              0.3333333333333333,
              "#9c179e"
             ],
             [
              0.4444444444444444,
              "#bd3786"
             ],
             [
              0.5555555555555556,
              "#d8576b"
             ],
             [
              0.6666666666666666,
              "#ed7953"
             ],
             [
              0.7777777777777778,
              "#fb9f3a"
             ],
             [
              0.8888888888888888,
              "#fdca26"
             ],
             [
              1,
              "#f0f921"
             ]
            ],
            "type": "histogram2d"
           }
          ],
          "histogram2dcontour": [
           {
            "colorbar": {
             "outlinewidth": 0,
             "ticks": ""
            },
            "colorscale": [
             [
              0,
              "#0d0887"
             ],
             [
              0.1111111111111111,
              "#46039f"
             ],
             [
              0.2222222222222222,
              "#7201a8"
             ],
             [
              0.3333333333333333,
              "#9c179e"
             ],
             [
              0.4444444444444444,
              "#bd3786"
             ],
             [
              0.5555555555555556,
              "#d8576b"
             ],
             [
              0.6666666666666666,
              "#ed7953"
             ],
             [
              0.7777777777777778,
              "#fb9f3a"
             ],
             [
              0.8888888888888888,
              "#fdca26"
             ],
             [
              1,
              "#f0f921"
             ]
            ],
            "type": "histogram2dcontour"
           }
          ],
          "mesh3d": [
           {
            "colorbar": {
             "outlinewidth": 0,
             "ticks": ""
            },
            "type": "mesh3d"
           }
          ],
          "parcoords": [
           {
            "line": {
             "colorbar": {
              "outlinewidth": 0,
              "ticks": ""
             }
            },
            "type": "parcoords"
           }
          ],
          "pie": [
           {
            "automargin": true,
            "type": "pie"
           }
          ],
          "scatter": [
           {
            "fillpattern": {
             "fillmode": "overlay",
             "size": 10,
             "solidity": 0.2
            },
            "type": "scatter"
           }
          ],
          "scatter3d": [
           {
            "line": {
             "colorbar": {
              "outlinewidth": 0,
              "ticks": ""
             }
            },
            "marker": {
             "colorbar": {
              "outlinewidth": 0,
              "ticks": ""
             }
            },
            "type": "scatter3d"
           }
          ],
          "scattercarpet": [
           {
            "marker": {
             "colorbar": {
              "outlinewidth": 0,
              "ticks": ""
             }
            },
            "type": "scattercarpet"
           }
          ],
          "scattergeo": [
           {
            "marker": {
             "colorbar": {
              "outlinewidth": 0,
              "ticks": ""
             }
            },
            "type": "scattergeo"
           }
          ],
          "scattergl": [
           {
            "marker": {
             "colorbar": {
              "outlinewidth": 0,
              "ticks": ""
             }
            },
            "type": "scattergl"
           }
          ],
          "scattermap": [
           {
            "marker": {
             "colorbar": {
              "outlinewidth": 0,
              "ticks": ""
             }
            },
            "type": "scattermap"
           }
          ],
          "scattermapbox": [
           {
            "marker": {
             "colorbar": {
              "outlinewidth": 0,
              "ticks": ""
             }
            },
            "type": "scattermapbox"
           }
          ],
          "scatterpolar": [
           {
            "marker": {
             "colorbar": {
              "outlinewidth": 0,
              "ticks": ""
             }
            },
            "type": "scatterpolar"
           }
          ],
          "scatterpolargl": [
           {
            "marker": {
             "colorbar": {
              "outlinewidth": 0,
              "ticks": ""
             }
            },
            "type": "scatterpolargl"
           }
          ],
          "scatterternary": [
           {
            "marker": {
             "colorbar": {
              "outlinewidth": 0,
              "ticks": ""
             }
            },
            "type": "scatterternary"
           }
          ],
          "surface": [
           {
            "colorbar": {
             "outlinewidth": 0,
             "ticks": ""
            },
            "colorscale": [
             [
              0,
              "#0d0887"
             ],
             [
              0.1111111111111111,
              "#46039f"
             ],
             [
              0.2222222222222222,
              "#7201a8"
             ],
             [
              0.3333333333333333,
              "#9c179e"
             ],
             [
              0.4444444444444444,
              "#bd3786"
             ],
             [
              0.5555555555555556,
              "#d8576b"
             ],
             [
              0.6666666666666666,
              "#ed7953"
             ],
             [
              0.7777777777777778,
              "#fb9f3a"
             ],
             [
              0.8888888888888888,
              "#fdca26"
             ],
             [
              1,
              "#f0f921"
             ]
            ],
            "type": "surface"
           }
          ],
          "table": [
           {
            "cells": {
             "fill": {
              "color": "#EBF0F8"
             },
             "line": {
              "color": "white"
             }
            },
            "header": {
             "fill": {
              "color": "#C8D4E3"
             },
             "line": {
              "color": "white"
             }
            },
            "type": "table"
           }
          ]
         },
         "layout": {
          "annotationdefaults": {
           "arrowcolor": "#2a3f5f",
           "arrowhead": 0,
           "arrowwidth": 1
          },
          "autotypenumbers": "strict",
          "coloraxis": {
           "colorbar": {
            "outlinewidth": 0,
            "ticks": ""
           }
          },
          "colorscale": {
           "diverging": [
            [
             0,
             "#8e0152"
            ],
            [
             0.1,
             "#c51b7d"
            ],
            [
             0.2,
             "#de77ae"
            ],
            [
             0.3,
             "#f1b6da"
            ],
            [
             0.4,
             "#fde0ef"
            ],
            [
             0.5,
             "#f7f7f7"
            ],
            [
             0.6,
             "#e6f5d0"
            ],
            [
             0.7,
             "#b8e186"
            ],
            [
             0.8,
             "#7fbc41"
            ],
            [
             0.9,
             "#4d9221"
            ],
            [
             1,
             "#276419"
            ]
           ],
           "sequential": [
            [
             0,
             "#0d0887"
            ],
            [
             0.1111111111111111,
             "#46039f"
            ],
            [
             0.2222222222222222,
             "#7201a8"
            ],
            [
             0.3333333333333333,
             "#9c179e"
            ],
            [
             0.4444444444444444,
             "#bd3786"
            ],
            [
             0.5555555555555556,
             "#d8576b"
            ],
            [
             0.6666666666666666,
             "#ed7953"
            ],
            [
             0.7777777777777778,
             "#fb9f3a"
            ],
            [
             0.8888888888888888,
             "#fdca26"
            ],
            [
             1,
             "#f0f921"
            ]
           ],
           "sequentialminus": [
            [
             0,
             "#0d0887"
            ],
            [
             0.1111111111111111,
             "#46039f"
            ],
            [
             0.2222222222222222,
             "#7201a8"
            ],
            [
             0.3333333333333333,
             "#9c179e"
            ],
            [
             0.4444444444444444,
             "#bd3786"
            ],
            [
             0.5555555555555556,
             "#d8576b"
            ],
            [
             0.6666666666666666,
             "#ed7953"
            ],
            [
             0.7777777777777778,
             "#fb9f3a"
            ],
            [
             0.8888888888888888,
             "#fdca26"
            ],
            [
             1,
             "#f0f921"
            ]
           ]
          },
          "colorway": [
           "#636efa",
           "#EF553B",
           "#00cc96",
           "#ab63fa",
           "#FFA15A",
           "#19d3f3",
           "#FF6692",
           "#B6E880",
           "#FF97FF",
           "#FECB52"
          ],
          "font": {
           "color": "#2a3f5f"
          },
          "geo": {
           "bgcolor": "white",
           "lakecolor": "white",
           "landcolor": "#E5ECF6",
           "showlakes": true,
           "showland": true,
           "subunitcolor": "white"
          },
          "hoverlabel": {
           "align": "left"
          },
          "hovermode": "closest",
          "mapbox": {
           "style": "light"
          },
          "paper_bgcolor": "white",
          "plot_bgcolor": "#E5ECF6",
          "polar": {
           "angularaxis": {
            "gridcolor": "white",
            "linecolor": "white",
            "ticks": ""
           },
           "bgcolor": "#E5ECF6",
           "radialaxis": {
            "gridcolor": "white",
            "linecolor": "white",
            "ticks": ""
           }
          },
          "scene": {
           "xaxis": {
            "backgroundcolor": "#E5ECF6",
            "gridcolor": "white",
            "gridwidth": 2,
            "linecolor": "white",
            "showbackground": true,
            "ticks": "",
            "zerolinecolor": "white"
           },
           "yaxis": {
            "backgroundcolor": "#E5ECF6",
            "gridcolor": "white",
            "gridwidth": 2,
            "linecolor": "white",
            "showbackground": true,
            "ticks": "",
            "zerolinecolor": "white"
           },
           "zaxis": {
            "backgroundcolor": "#E5ECF6",
            "gridcolor": "white",
            "gridwidth": 2,
            "linecolor": "white",
            "showbackground": true,
            "ticks": "",
            "zerolinecolor": "white"
           }
          },
          "shapedefaults": {
           "line": {
            "color": "#2a3f5f"
           }
          },
          "ternary": {
           "aaxis": {
            "gridcolor": "white",
            "linecolor": "white",
            "ticks": ""
           },
           "baxis": {
            "gridcolor": "white",
            "linecolor": "white",
            "ticks": ""
           },
           "bgcolor": "#E5ECF6",
           "caxis": {
            "gridcolor": "white",
            "linecolor": "white",
            "ticks": ""
           }
          },
          "title": {
           "x": 0.05
          },
          "xaxis": {
           "automargin": true,
           "gridcolor": "white",
           "linecolor": "white",
           "ticks": "",
           "title": {
            "standoff": 15
           },
           "zerolinecolor": "white",
           "zerolinewidth": 2
          },
          "yaxis": {
           "automargin": true,
           "gridcolor": "white",
           "linecolor": "white",
           "ticks": "",
           "title": {
            "standoff": 15
           },
           "zerolinecolor": "white",
           "zerolinewidth": 2
          }
         }
        },
        "title": {
         "text": "Query, Key, Value and Context Vector Space"
        },
        "width": 1000
       }
      }
     },
     "metadata": {},
     "output_type": "display_data"
    }
   ],
   "source": [
    "from plot_tokens import plot_tokens\n",
    "\n",
    "u_sentences = [\n",
    "  {\n",
    "    \"words\": q_of_sentence.detach().numpy(),\n",
    "    \"labels\": u_tokenizer.tokenize(prompt),\n",
    "    \"color\": \"blue\",\n",
    "  },\n",
    "  {\n",
    "    \"words\": k_of_sentence.detach().numpy(),\n",
    "    \"labels\": u_tokenizer.tokenize(prompt),\n",
    "    \"color\": \"purple\",\n",
    "  },\n",
    "  {\n",
    "    \"words\": v_of_sentence.detach().numpy(),\n",
    "    \"labels\": u_tokenizer.tokenize(prompt),\n",
    "    \"color\": \"orange\",\n",
    "  },\n",
    "  {\n",
    "    \"words\": context_vector.detach().numpy(),\n",
    "    \"labels\": u_tokenizer.tokenize(prompt),\n",
    "    \"color\": \"green\",\n",
    "  },\n",
    "]\n",
    "\n",
    "plot_tokens(u_sentences, \"Query, Key, Value and Context Vector Space\")"
   ]
  },
  {
   "cell_type": "code",
   "execution_count": null,
   "metadata": {},
   "outputs": [],
   "source": []
  },
  {
   "cell_type": "code",
   "execution_count": null,
   "metadata": {},
   "outputs": [],
   "source": []
  }
 ],
 "metadata": {
  "kernelspec": {
   "display_name": "Python 3",
   "language": "python",
   "name": "python3"
  },
  "language_info": {
   "codemirror_mode": {
    "name": "ipython",
    "version": 3
   },
   "file_extension": ".py",
   "mimetype": "text/x-python",
   "name": "python",
   "nbconvert_exporter": "python",
   "pygments_lexer": "ipython3",
   "version": "3.13.3"
  }
 },
 "nbformat": 4,
 "nbformat_minor": 2
}
