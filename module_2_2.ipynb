{
 "cells": [
  {
   "cell_type": "code",
   "execution_count": 11,
   "metadata": {},
   "outputs": [
    {
     "data": {
      "text/plain": [
       "tensor([[ 0.0985, -0.0228,  0.0925,  0.0479],\n",
       "        [ 0.0816, -0.0873,  0.1089,  0.0699],\n",
       "        [ 0.0106,  0.0727,  0.0217, -0.0068],\n",
       "        [ 0.0249, -0.0569,  0.0750,  0.0467],\n",
       "        [ 0.0336, -0.0874,  0.0925,  0.0614],\n",
       "        [ 0.0495, -0.1005,  0.1028,  0.0690],\n",
       "        [ 0.0852, -0.1761,  0.1465,  0.1066]], grad_fn=<MmBackward0>)"
      ]
     },
     "execution_count": 11,
     "metadata": {},
     "output_type": "execute_result"
    }
   ],
   "source": [
    "import torch\n",
    "from usta_model import UstaModel\n",
    "from usta_tokenizer import UstaTokenizer\n",
    "\n",
    "u_tokenizer = UstaTokenizer(\"tokenizer.json\")\n",
    "\n",
    "prompt = \"the capital of united\"\n",
    "\n",
    "tokens = u_tokenizer.encode(prompt)\n",
    "\n",
    "torch.manual_seed(1)\n",
    "u_model = UstaModel(vocab_size=len(u_tokenizer.vocab), embedding_dim=4, context_length=32)\n",
    "\n",
    "sentence_meanings_with_atention_context = u_model(tokens)\n",
    "sentence_meanings_with_atention_context"
   ]
  },
  {
   "cell_type": "code",
   "execution_count": 12,
   "metadata": {},
   "outputs": [
    {
     "data": {
      "text/plain": [
       "(UstaModel(\n",
       "   (embedding): Embedding(64, 4)\n",
       "   (pos_embedding): Embedding(32, 4)\n",
       "   (self_attention): UstaSelfAttention(\n",
       "     (q_weights): Linear(in_features=4, out_features=4, bias=False)\n",
       "     (k_weights): Linear(in_features=4, out_features=4, bias=False)\n",
       "     (v_weights): Linear(in_features=4, out_features=4, bias=False)\n",
       "   )\n",
       " ),\n",
       " Gemma3ForCausalLM(\n",
       "   (model): Gemma3TextModel(\n",
       "     (embed_tokens): Gemma3TextScaledWordEmbedding(262144, 1152, padding_idx=0)\n",
       "     (layers): ModuleList(\n",
       "       (0-25): 26 x Gemma3DecoderLayer(\n",
       "         (self_attn): Gemma3Attention(\n",
       "           (q_proj): Linear(in_features=1152, out_features=1024, bias=False)\n",
       "           (k_proj): Linear(in_features=1152, out_features=256, bias=False)\n",
       "           (v_proj): Linear(in_features=1152, out_features=256, bias=False)\n",
       "           (o_proj): Linear(in_features=1024, out_features=1152, bias=False)\n",
       "           (q_norm): Gemma3RMSNorm((256,), eps=1e-06)\n",
       "           (k_norm): Gemma3RMSNorm((256,), eps=1e-06)\n",
       "         )\n",
       "         (mlp): Gemma3MLP(\n",
       "           (gate_proj): Linear(in_features=1152, out_features=6912, bias=False)\n",
       "           (up_proj): Linear(in_features=1152, out_features=6912, bias=False)\n",
       "           (down_proj): Linear(in_features=6912, out_features=1152, bias=False)\n",
       "           (act_fn): PytorchGELUTanh()\n",
       "         )\n",
       "         (input_layernorm): Gemma3RMSNorm((1152,), eps=1e-06)\n",
       "         (post_attention_layernorm): Gemma3RMSNorm((1152,), eps=1e-06)\n",
       "         (pre_feedforward_layernorm): Gemma3RMSNorm((1152,), eps=1e-06)\n",
       "         (post_feedforward_layernorm): Gemma3RMSNorm((1152,), eps=1e-06)\n",
       "       )\n",
       "     )\n",
       "     (norm): Gemma3RMSNorm((1152,), eps=1e-06)\n",
       "     (rotary_emb): Gemma3RotaryEmbedding()\n",
       "     (rotary_emb_local): Gemma3RotaryEmbedding()\n",
       "   )\n",
       "   (lm_head): Linear(in_features=1152, out_features=262144, bias=False)\n",
       " ))"
      ]
     },
     "execution_count": 12,
     "metadata": {},
     "output_type": "execute_result"
    }
   ],
   "source": [
    "from transformers import Gemma3ForCausalLM\n",
    "\n",
    "gemma_model = Gemma3ForCausalLM.from_pretrained(\"google/gemma-3-1b-it\")\n",
    "u_model, gemma_model"
   ]
  },
  {
   "cell_type": "markdown",
   "metadata": {},
   "source": [
    "![image.png](https://lena-voita.github.io/resources/lectures/seq2seq/transformer/qkv_attention_formula-min.png)"
   ]
  },
  {
   "cell_type": "code",
   "execution_count": 13,
   "metadata": {},
   "outputs": [
    {
     "name": "stdout",
     "output_type": "stream",
     "text": [
      "Parameter containing:\n",
      "tensor([[ 0.0104,  0.1436,  0.1804, -0.4028],\n",
      "        [ 0.2416,  0.0514,  0.3449,  0.3534],\n",
      "        [-0.3938,  0.4802, -0.4917,  0.2874]], requires_grad=True)\n"
     ]
    },
    {
     "data": {
      "text/plain": [
       "(torch.Size([7, 3]), torch.Size([7, 3]), torch.Size([7, 3]))"
      ]
     },
     "execution_count": 13,
     "metadata": {},
     "output_type": "execute_result"
    }
   ],
   "source": [
    "q_weights = torch.nn.Linear(4, 3, bias=False)\n",
    "k_weights = torch.nn.Linear(4, 3, bias=False)\n",
    "v_weights = torch.nn.Linear(4, 3, bias=False)\n",
    "\n",
    "q_of_sentence = q_weights(sentence_meanings_with_atention_context)\n",
    "k_of_sentence = k_weights(sentence_meanings_with_atention_context)\n",
    "v_of_sentence = v_weights(sentence_meanings_with_atention_context)\n",
    "print(q_weights.weight)\n",
    "\n",
    "q_of_sentence.shape, k_of_sentence.shape, v_of_sentence.shape"
   ]
  },
  {
   "cell_type": "code",
   "execution_count": 14,
   "metadata": {},
   "outputs": [
    {
     "data": {
      "text/plain": [
       "torch.Size([7, 3])"
      ]
     },
     "execution_count": 14,
     "metadata": {},
     "output_type": "execute_result"
    }
   ],
   "source": [
    "k_of_sentence.shape"
   ]
  },
  {
   "cell_type": "code",
   "execution_count": 15,
   "metadata": {},
   "outputs": [
    {
     "data": {
      "text/plain": [
       "tensor([[ 0.0218,  0.0824, -0.0569],\n",
       "        [ 0.0218,  0.0824, -0.0569],\n",
       "        [ 0.0218,  0.0824, -0.0569],\n",
       "        [ 0.0218,  0.0824, -0.0569],\n",
       "        [ 0.0218,  0.0824, -0.0569],\n",
       "        [ 0.0218,  0.0824, -0.0569],\n",
       "        [ 0.0218,  0.0824, -0.0568]], grad_fn=<MmBackward0>)"
      ]
     },
     "execution_count": 15,
     "metadata": {},
     "output_type": "execute_result"
    }
   ],
   "source": [
    "attention_scores = q_of_sentence @ k_of_sentence.T\n",
    "attention_weights = torch.softmax(attention_scores / k_of_sentence.shape[-1] ** 0.5, dim=1)\n",
    "\n",
    "context_vector = attention_weights @ v_of_sentence\n",
    "context_vector"
   ]
  },
  {
   "cell_type": "code",
   "execution_count": 16,
   "metadata": {},
   "outputs": [
    {
     "data": {
      "application/vnd.plotly.v1+json": {
       "config": {
        "linkText": "Export to plot.ly",
        "plotlyServerURL": "https://plot.ly",
        "showLink": false
       },
       "data": [
        {
         "hoverinfo": "text",
         "marker": {
          "color": "blue",
          "size": 6
         },
         "mode": "markers+text",
         "text": [
          "the",
          " ",
          "capital",
          " ",
          "of",
          " ",
          "united"
         ],
         "type": "scatter3d",
         "x": {
          "bdata": "EHufu4B5pbyFCI08fpxYvOalpbz14L2826YnvQ==",
          "dtype": "f4"
         },
         "y": {
          "bdata": "mFuSPbm6nj0ZQjo8bDc6PTdbaj0veIg94z/MPQ==",
          "dtype": "f4"
         },
         "z": {
          "bdata": "QN+mvRQx3L3GEpQ8PBB4vc0Yqr3qo8m9Xkkjvg==",
          "dtype": "f4"
         }
        },
        {
         "hoverinfo": "text",
         "marker": {
          "color": "purple",
          "size": 6
         },
         "mode": "markers+text",
         "text": [
          "the",
          " ",
          "capital",
          " ",
          "of",
          " ",
          "united"
         ],
         "type": "scatter3d",
         "x": {
          "bdata": "a41NvEK+1ryl7R08axKavKaI1bzCPe68w0I9vQ==",
          "dtype": "f4"
         },
         "y": {
          "bdata": "oJRqPH1jZD2PDQe9qqA1PdMugD3h1Ys9ojTiPQ==",
          "dtype": "f4"
         },
         "z": {
          "bdata": "lB3hPTmA9T0m+h48+vmHPfP6rj0Mr889OuQfPg==",
          "dtype": "f4"
         }
        },
        {
         "hoverinfo": "text",
         "marker": {
          "color": "orange",
          "size": 6
         },
         "mode": "markers+text",
         "text": [
          "the",
          " ",
          "capital",
          " ",
          "of",
          " ",
          "united"
         ],
         "type": "scatter3d",
         "x": {
          "bdata": "/E44u89Eyzx14rm8F4nEPFZTDT2PGhU9jCtwPQ==",
          "dtype": "f4"
         },
         "y": {
          "bdata": "8x6WPYq42T2HgrK8g/eDPaFftD0EYNE9zkooPg==",
          "dtype": "f4"
         },
         "z": {
          "bdata": "0PtIvYKqkb2BoxQ8qo89vSddfL2AbI+9xWDfvQ==",
          "dtype": "f4"
         }
        },
        {
         "hoverinfo": "text",
         "marker": {
          "color": "green",
          "size": 6
         },
         "mode": "markers+text",
         "text": [
          "the",
          " ",
          "capital",
          " ",
          "of",
          " ",
          "united"
         ],
         "type": "scatter3d",
         "x": {
          "bdata": "IOqyPEzfsjxB9rI8AuKyPOrdsjz527I80NGyPA==",
          "dtype": "f4"
         },
         "y": {
          "bdata": "UMOoPRG6qD1H2Kg9ecKoPRS9qD3Muag9nquoPQ==",
          "dtype": "f4"
         },
         "z": {
          "bdata": "ju1ovRbiaL3yBmm9KexovZTlaL2a4Wi9VtBovQ==",
          "dtype": "f4"
         }
        }
       ],
       "layout": {
        "height": 1000,
        "scene": {
         "xaxis": {
          "title": {
           "text": "Hardness"
          }
         },
         "yaxis": {
          "title": {
           "text": "Brightness"
          }
         },
         "zaxis": {
          "title": {
           "text": "Redness"
          }
         }
        },
        "template": {
         "data": {
          "bar": [
           {
            "error_x": {
             "color": "#2a3f5f"
            },
            "error_y": {
             "color": "#2a3f5f"
            },
            "marker": {
             "line": {
              "color": "#E5ECF6",
              "width": 0.5
             },
             "pattern": {
              "fillmode": "overlay",
              "size": 10,
              "solidity": 0.2
             }
            },
            "type": "bar"
           }
          ],
          "barpolar": [
           {
            "marker": {
             "line": {
              "color": "#E5ECF6",
              "width": 0.5
             },
             "pattern": {
              "fillmode": "overlay",
              "size": 10,
              "solidity": 0.2
             }
            },
            "type": "barpolar"
           }
          ],
          "carpet": [
           {
            "aaxis": {
             "endlinecolor": "#2a3f5f",
             "gridcolor": "white",
             "linecolor": "white",
             "minorgridcolor": "white",
             "startlinecolor": "#2a3f5f"
            },
            "baxis": {
             "endlinecolor": "#2a3f5f",
             "gridcolor": "white",
             "linecolor": "white",
             "minorgridcolor": "white",
             "startlinecolor": "#2a3f5f"
            },
            "type": "carpet"
           }
          ],
          "choropleth": [
           {
            "colorbar": {
             "outlinewidth": 0,
             "ticks": ""
            },
            "type": "choropleth"
           }
          ],
          "contour": [
           {
            "colorbar": {
             "outlinewidth": 0,
             "ticks": ""
            },
            "colorscale": [
             [
              0,
              "#0d0887"
             ],
             [
              0.1111111111111111,
              "#46039f"
             ],
             [
              0.2222222222222222,
              "#7201a8"
             ],
             [
              0.3333333333333333,
              "#9c179e"
             ],
             [
              0.4444444444444444,
              "#bd3786"
             ],
             [
              0.5555555555555556,
              "#d8576b"
             ],
             [
              0.6666666666666666,
              "#ed7953"
             ],
             [
              0.7777777777777778,
              "#fb9f3a"
             ],
             [
              0.8888888888888888,
              "#fdca26"
             ],
             [
              1,
              "#f0f921"
             ]
            ],
            "type": "contour"
           }
          ],
          "contourcarpet": [
           {
            "colorbar": {
             "outlinewidth": 0,
             "ticks": ""
            },
            "type": "contourcarpet"
           }
          ],
          "heatmap": [
           {
            "colorbar": {
             "outlinewidth": 0,
             "ticks": ""
            },
            "colorscale": [
             [
              0,
              "#0d0887"
             ],
             [
              0.1111111111111111,
              "#46039f"
             ],
             [
              0.2222222222222222,
              "#7201a8"
             ],
             [
              0.3333333333333333,
              "#9c179e"
             ],
             [
              0.4444444444444444,
              "#bd3786"
             ],
             [
              0.5555555555555556,
              "#d8576b"
             ],
             [
              0.6666666666666666,
              "#ed7953"
             ],
             [
              0.7777777777777778,
              "#fb9f3a"
             ],
             [
              0.8888888888888888,
              "#fdca26"
             ],
             [
              1,
              "#f0f921"
             ]
            ],
            "type": "heatmap"
           }
          ],
          "histogram": [
           {
            "marker": {
             "pattern": {
              "fillmode": "overlay",
              "size": 10,
              "solidity": 0.2
             }
            },
            "type": "histogram"
           }
          ],
          "histogram2d": [
           {
            "colorbar": {
             "outlinewidth": 0,
             "ticks": ""
            },
            "colorscale": [
             [
              0,
              "#0d0887"
             ],
             [
              0.1111111111111111,
              "#46039f"
             ],
             [
              0.2222222222222222,
              "#7201a8"
             ],
             [
              0.3333333333333333,
              "#9c179e"
             ],
             [
              0.4444444444444444,
              "#bd3786"
             ],
             [
              0.5555555555555556,
              "#d8576b"
             ],
             [
              0.6666666666666666,
              "#ed7953"
             ],
             [
              0.7777777777777778,
              "#fb9f3a"
             ],
             [
              0.8888888888888888,
              "#fdca26"
             ],
             [
              1,
              "#f0f921"
             ]
            ],
            "type": "histogram2d"
           }
          ],
          "histogram2dcontour": [
           {
            "colorbar": {
             "outlinewidth": 0,
             "ticks": ""
            },
            "colorscale": [
             [
              0,
              "#0d0887"
             ],
             [
              0.1111111111111111,
              "#46039f"
             ],
             [
              0.2222222222222222,
              "#7201a8"
             ],
             [
              0.3333333333333333,
              "#9c179e"
             ],
             [
              0.4444444444444444,
              "#bd3786"
             ],
             [
              0.5555555555555556,
              "#d8576b"
             ],
             [
              0.6666666666666666,
              "#ed7953"
             ],
             [
              0.7777777777777778,
              "#fb9f3a"
             ],
             [
              0.8888888888888888,
              "#fdca26"
             ],
             [
              1,
              "#f0f921"
             ]
            ],
            "type": "histogram2dcontour"
           }
          ],
          "mesh3d": [
           {
            "colorbar": {
             "outlinewidth": 0,
             "ticks": ""
            },
            "type": "mesh3d"
           }
          ],
          "parcoords": [
           {
            "line": {
             "colorbar": {
              "outlinewidth": 0,
              "ticks": ""
             }
            },
            "type": "parcoords"
           }
          ],
          "pie": [
           {
            "automargin": true,
            "type": "pie"
           }
          ],
          "scatter": [
           {
            "fillpattern": {
             "fillmode": "overlay",
             "size": 10,
             "solidity": 0.2
            },
            "type": "scatter"
           }
          ],
          "scatter3d": [
           {
            "line": {
             "colorbar": {
              "outlinewidth": 0,
              "ticks": ""
             }
            },
            "marker": {
             "colorbar": {
              "outlinewidth": 0,
              "ticks": ""
             }
            },
            "type": "scatter3d"
           }
          ],
          "scattercarpet": [
           {
            "marker": {
             "colorbar": {
              "outlinewidth": 0,
              "ticks": ""
             }
            },
            "type": "scattercarpet"
           }
          ],
          "scattergeo": [
           {
            "marker": {
             "colorbar": {
              "outlinewidth": 0,
              "ticks": ""
             }
            },
            "type": "scattergeo"
           }
          ],
          "scattergl": [
           {
            "marker": {
             "colorbar": {
              "outlinewidth": 0,
              "ticks": ""
             }
            },
            "type": "scattergl"
           }
          ],
          "scattermap": [
           {
            "marker": {
             "colorbar": {
              "outlinewidth": 0,
              "ticks": ""
             }
            },
            "type": "scattermap"
           }
          ],
          "scattermapbox": [
           {
            "marker": {
             "colorbar": {
              "outlinewidth": 0,
              "ticks": ""
             }
            },
            "type": "scattermapbox"
           }
          ],
          "scatterpolar": [
           {
            "marker": {
             "colorbar": {
              "outlinewidth": 0,
              "ticks": ""
             }
            },
            "type": "scatterpolar"
           }
          ],
          "scatterpolargl": [
           {
            "marker": {
             "colorbar": {
              "outlinewidth": 0,
              "ticks": ""
             }
            },
            "type": "scatterpolargl"
           }
          ],
          "scatterternary": [
           {
            "marker": {
             "colorbar": {
              "outlinewidth": 0,
              "ticks": ""
             }
            },
            "type": "scatterternary"
           }
          ],
          "surface": [
           {
            "colorbar": {
             "outlinewidth": 0,
             "ticks": ""
            },
            "colorscale": [
             [
              0,
              "#0d0887"
             ],
             [
              0.1111111111111111,
              "#46039f"
             ],
             [
              0.2222222222222222,
              "#7201a8"
             ],
             [
              0.3333333333333333,
              "#9c179e"
             ],
             [
              0.4444444444444444,
              "#bd3786"
             ],
             [
              0.5555555555555556,
              "#d8576b"
             ],
             [
              0.6666666666666666,
              "#ed7953"
             ],
             [
              0.7777777777777778,
              "#fb9f3a"
             ],
             [
              0.8888888888888888,
              "#fdca26"
             ],
             [
              1,
              "#f0f921"
             ]
            ],
            "type": "surface"
           }
          ],
          "table": [
           {
            "cells": {
             "fill": {
              "color": "#EBF0F8"
             },
             "line": {
              "color": "white"
             }
            },
            "header": {
             "fill": {
              "color": "#C8D4E3"
             },
             "line": {
              "color": "white"
             }
            },
            "type": "table"
           }
          ]
         },
         "layout": {
          "annotationdefaults": {
           "arrowcolor": "#2a3f5f",
           "arrowhead": 0,
           "arrowwidth": 1
          },
          "autotypenumbers": "strict",
          "coloraxis": {
           "colorbar": {
            "outlinewidth": 0,
            "ticks": ""
           }
          },
          "colorscale": {
           "diverging": [
            [
             0,
             "#8e0152"
            ],
            [
             0.1,
             "#c51b7d"
            ],
            [
             0.2,
             "#de77ae"
            ],
            [
             0.3,
             "#f1b6da"
            ],
            [
             0.4,
             "#fde0ef"
            ],
            [
             0.5,
             "#f7f7f7"
            ],
            [
             0.6,
             "#e6f5d0"
            ],
            [
             0.7,
             "#b8e186"
            ],
            [
             0.8,
             "#7fbc41"
            ],
            [
             0.9,
             "#4d9221"
            ],
            [
             1,
             "#276419"
            ]
           ],
           "sequential": [
            [
             0,
             "#0d0887"
            ],
            [
             0.1111111111111111,
             "#46039f"
            ],
            [
             0.2222222222222222,
             "#7201a8"
            ],
            [
             0.3333333333333333,
             "#9c179e"
            ],
            [
             0.4444444444444444,
             "#bd3786"
            ],
            [
             0.5555555555555556,
             "#d8576b"
            ],
            [
             0.6666666666666666,
             "#ed7953"
            ],
            [
             0.7777777777777778,
             "#fb9f3a"
            ],
            [
             0.8888888888888888,
             "#fdca26"
            ],
            [
             1,
             "#f0f921"
            ]
           ],
           "sequentialminus": [
            [
             0,
             "#0d0887"
            ],
            [
             0.1111111111111111,
             "#46039f"
            ],
            [
             0.2222222222222222,
             "#7201a8"
            ],
            [
             0.3333333333333333,
             "#9c179e"
            ],
            [
             0.4444444444444444,
             "#bd3786"
            ],
            [
             0.5555555555555556,
             "#d8576b"
            ],
            [
             0.6666666666666666,
             "#ed7953"
            ],
            [
             0.7777777777777778,
             "#fb9f3a"
            ],
            [
             0.8888888888888888,
             "#fdca26"
            ],
            [
             1,
             "#f0f921"
            ]
           ]
          },
          "colorway": [
           "#636efa",
           "#EF553B",
           "#00cc96",
           "#ab63fa",
           "#FFA15A",
           "#19d3f3",
           "#FF6692",
           "#B6E880",
           "#FF97FF",
           "#FECB52"
          ],
          "font": {
           "color": "#2a3f5f"
          },
          "geo": {
           "bgcolor": "white",
           "lakecolor": "white",
           "landcolor": "#E5ECF6",
           "showlakes": true,
           "showland": true,
           "subunitcolor": "white"
          },
          "hoverlabel": {
           "align": "left"
          },
          "hovermode": "closest",
          "mapbox": {
           "style": "light"
          },
          "paper_bgcolor": "white",
          "plot_bgcolor": "#E5ECF6",
          "polar": {
           "angularaxis": {
            "gridcolor": "white",
            "linecolor": "white",
            "ticks": ""
           },
           "bgcolor": "#E5ECF6",
           "radialaxis": {
            "gridcolor": "white",
            "linecolor": "white",
            "ticks": ""
           }
          },
          "scene": {
           "xaxis": {
            "backgroundcolor": "#E5ECF6",
            "gridcolor": "white",
            "gridwidth": 2,
            "linecolor": "white",
            "showbackground": true,
            "ticks": "",
            "zerolinecolor": "white"
           },
           "yaxis": {
            "backgroundcolor": "#E5ECF6",
            "gridcolor": "white",
            "gridwidth": 2,
            "linecolor": "white",
            "showbackground": true,
            "ticks": "",
            "zerolinecolor": "white"
           },
           "zaxis": {
            "backgroundcolor": "#E5ECF6",
            "gridcolor": "white",
            "gridwidth": 2,
            "linecolor": "white",
            "showbackground": true,
            "ticks": "",
            "zerolinecolor": "white"
           }
          },
          "shapedefaults": {
           "line": {
            "color": "#2a3f5f"
           }
          },
          "ternary": {
           "aaxis": {
            "gridcolor": "white",
            "linecolor": "white",
            "ticks": ""
           },
           "baxis": {
            "gridcolor": "white",
            "linecolor": "white",
            "ticks": ""
           },
           "bgcolor": "#E5ECF6",
           "caxis": {
            "gridcolor": "white",
            "linecolor": "white",
            "ticks": ""
           }
          },
          "title": {
           "x": 0.05
          },
          "xaxis": {
           "automargin": true,
           "gridcolor": "white",
           "linecolor": "white",
           "ticks": "",
           "title": {
            "standoff": 15
           },
           "zerolinecolor": "white",
           "zerolinewidth": 2
          },
          "yaxis": {
           "automargin": true,
           "gridcolor": "white",
           "linecolor": "white",
           "ticks": "",
           "title": {
            "standoff": 15
           },
           "zerolinecolor": "white",
           "zerolinewidth": 2
          }
         }
        },
        "title": {
         "text": "Query, Key, Value and Context Vector Space"
        },
        "width": 1000
       }
      }
     },
     "metadata": {},
     "output_type": "display_data"
    }
   ],
   "source": [
    "from plot_tokens import plot_tokens\n",
    "\n",
    "u_sentences = [\n",
    "  {\n",
    "    \"words\": q_of_sentence.detach().numpy(),\n",
    "    \"labels\": u_tokenizer.tokenize(prompt),\n",
    "    \"color\": \"blue\",\n",
    "  },\n",
    "  {\n",
    "    \"words\": k_of_sentence.detach().numpy(),\n",
    "    \"labels\": u_tokenizer.tokenize(prompt),\n",
    "    \"color\": \"purple\",\n",
    "  },\n",
    "  {\n",
    "    \"words\": v_of_sentence.detach().numpy(),\n",
    "    \"labels\": u_tokenizer.tokenize(prompt),\n",
    "    \"color\": \"orange\",\n",
    "  },\n",
    "  {\n",
    "    \"words\": context_vector.detach().numpy(),\n",
    "    \"labels\": u_tokenizer.tokenize(prompt),\n",
    "    \"color\": \"green\",\n",
    "  },\n",
    "]\n",
    "\n",
    "plot_tokens(u_sentences, \"Query, Key, Value and Context Vector Space\")"
   ]
  },
  {
   "cell_type": "markdown",
   "metadata": {},
   "source": [
    "## Causal Self Attention"
   ]
  },
  {
   "cell_type": "code",
   "execution_count": 21,
   "metadata": {},
   "outputs": [
    {
     "data": {
      "text/plain": [
       "tensor([[0.1426, 0.1427, 0.1429, 0.1430, 0.1430, 0.1429, 0.1428],\n",
       "        [0.1425, 0.1427, 0.1430, 0.1431, 0.1430, 0.1429, 0.1427],\n",
       "        [0.1429, 0.1429, 0.1427, 0.1428, 0.1429, 0.1429, 0.1430],\n",
       "        [0.1426, 0.1428, 0.1429, 0.1430, 0.1430, 0.1429, 0.1428],\n",
       "        [0.1426, 0.1427, 0.1430, 0.1430, 0.1430, 0.1429, 0.1428],\n",
       "        [0.1425, 0.1427, 0.1430, 0.1431, 0.1430, 0.1429, 0.1427],\n",
       "        [0.1423, 0.1426, 0.1432, 0.1432, 0.1431, 0.1430, 0.1426]],\n",
       "       grad_fn=<SoftmaxBackward0>)"
      ]
     },
     "execution_count": 21,
     "metadata": {},
     "output_type": "execute_result"
    }
   ],
   "source": [
    "attention_weights"
   ]
  },
  {
   "cell_type": "markdown",
   "metadata": {},
   "source": [
    "![softmax](https://i.ytimg.com/vi/EuZZ6plg2Tk/maxresdefault.jpg)"
   ]
  },
  {
   "cell_type": "code",
   "execution_count": 26,
   "metadata": {},
   "outputs": [
    {
     "data": {
      "text/plain": [
       "tensor([[1.0000, 0.0000, 0.0000, 0.0000, 0.0000, 0.0000, 0.0000],\n",
       "        [0.5000, 0.5000, 0.0000, 0.0000, 0.0000, 0.0000, 0.0000],\n",
       "        [0.3333, 0.3334, 0.3333, 0.0000, 0.0000, 0.0000, 0.0000],\n",
       "        [0.2500, 0.2500, 0.2500, 0.2500, 0.0000, 0.0000, 0.0000],\n",
       "        [0.1999, 0.2000, 0.2000, 0.2000, 0.2000, 0.0000, 0.0000],\n",
       "        [0.1666, 0.1666, 0.1667, 0.1667, 0.1667, 0.1667, 0.0000],\n",
       "        [0.1428, 0.1428, 0.1429, 0.1429, 0.1429, 0.1429, 0.1428]],\n",
       "       grad_fn=<SoftmaxBackward0>)"
      ]
     },
     "execution_count": 26,
     "metadata": {},
     "output_type": "execute_result"
    }
   ],
   "source": [
    "mask = torch.tril(torch.ones(attention_weights.shape[0], attention_weights.shape[0]))\n",
    "masked_attention_weights = attention_weights.masked_fill(mask == 0, -torch.inf)\n",
    "masked_attention_weights\n",
    "\n",
    "softmaxed_attention_weights = torch.softmax(masked_attention_weights, dim=1)\n",
    "softmaxed_attention_weights"
   ]
  },
  {
   "cell_type": "code",
   "execution_count": 51,
   "metadata": {},
   "outputs": [
    {
     "data": {
      "text/plain": [
       "tensor([[1.0000, 0.0000, 0.0000, 0.0000, 0.0000, 0.0000, 0.0000],\n",
       "        [0.5000, 0.5000, 0.0000, 0.0000, 0.0000, 0.0000, 0.0000],\n",
       "        [0.3333, 0.3334, 0.3333, 0.0000, 0.0000, 0.0000, 0.0000],\n",
       "        [0.2500, 0.2500, 0.2500, 0.2500, 0.0000, 0.0000, 0.0000],\n",
       "        [0.1999, 0.2000, 0.2000, 0.2000, 0.2000, 0.0000, 0.0000],\n",
       "        [0.1666, 0.1666, 0.1667, 0.1667, 0.1667, 0.1667, 0.0000],\n",
       "        [0.1428, 0.1428, 0.1429, 0.1429, 0.1429, 0.1429, 0.1428]],\n",
       "       grad_fn=<SoftmaxBackward0>)"
      ]
     },
     "execution_count": 51,
     "metadata": {},
     "output_type": "execute_result"
    }
   ],
   "source": [
    "dropout_rate = 0\n",
    "torch.manual_seed(1)\n",
    "dropout = torch.nn.Dropout(dropout_rate)\n",
    "dropout(softmaxed_attention_weights)"
   ]
  }
 ],
 "metadata": {
  "kernelspec": {
   "display_name": "Python 3",
   "language": "python",
   "name": "python3"
  },
  "language_info": {
   "codemirror_mode": {
    "name": "ipython",
    "version": 3
   },
   "file_extension": ".py",
   "mimetype": "text/x-python",
   "name": "python",
   "nbconvert_exporter": "python",
   "pygments_lexer": "ipython3",
   "version": "3.13.3"
  }
 },
 "nbformat": 4,
 "nbformat_minor": 2
}
