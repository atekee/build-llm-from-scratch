{
 "cells": [
  {
   "cell_type": "code",
   "execution_count": 1,
   "metadata": {},
   "outputs": [
    {
     "data": {
      "text/plain": [
       "tensor([ 0, 61,  1, 61,  2, 61,  3])"
      ]
     },
     "execution_count": 1,
     "metadata": {},
     "output_type": "execute_result"
    }
   ],
   "source": [
    "import torch\n",
    "from usta_model import UstaModel\n",
    "from usta_tokenizer import UstaTokenizer\n",
    "\n",
    "u_tokenizer = UstaTokenizer(\"tokenizer.json\")\n",
    "\n",
    "prompt = \"the capital of united\"\n",
    "\n",
    "tokens = u_tokenizer.encode(prompt)\n",
    "tokens"
   ]
  },
  {
   "cell_type": "code",
   "execution_count": 5,
   "metadata": {},
   "outputs": [
    {
     "data": {
      "text/plain": [
       "torch.Size([7, 64])"
      ]
     },
     "execution_count": 5,
     "metadata": {},
     "output_type": "execute_result"
    }
   ],
   "source": [
    "torch.manual_seed(1)\n",
    "u_model = UstaModel(vocab_size=len(u_tokenizer.vocab), embedding_dim=4, num_heads=2, context_length=32, num_layers=3)\n",
    "\n",
    "out = u_model(tokens)\n",
    "out.shape"
   ]
  },
  {
   "cell_type": "code",
   "execution_count": 4,
   "metadata": {},
   "outputs": [
    {
     "data": {
      "text/plain": [
       "UstaModel(\n",
       "  (embedding): Embedding(64, 4)\n",
       "  (pos_embedding): Embedding(32, 4)\n",
       "  (layers): Sequential(\n",
       "    (0): UstaDecoderBlock(\n",
       "      (self_attention): UstaMultiHeadAttention(\n",
       "        (multi_head_attention): MultiheadAttention(\n",
       "          (out_proj): NonDynamicallyQuantizableLinear(in_features=4, out_features=4, bias=True)\n",
       "        )\n",
       "        (projection): Linear(in_features=4, out_features=4, bias=True)\n",
       "      )\n",
       "      (norm1): UstaLayerNorm()\n",
       "      (mlp): UstaMLP(\n",
       "        (gate_proj): Linear(in_features=4, out_features=4, bias=True)\n",
       "        (up_proj): Linear(in_features=4, out_features=4, bias=True)\n",
       "        (down_proj): Linear(in_features=4, out_features=4, bias=True)\n",
       "        (gelu): GELU()\n",
       "      )\n",
       "      (norm2): UstaLayerNorm()\n",
       "    )\n",
       "    (1): UstaDecoderBlock(\n",
       "      (self_attention): UstaMultiHeadAttention(\n",
       "        (multi_head_attention): MultiheadAttention(\n",
       "          (out_proj): NonDynamicallyQuantizableLinear(in_features=4, out_features=4, bias=True)\n",
       "        )\n",
       "        (projection): Linear(in_features=4, out_features=4, bias=True)\n",
       "      )\n",
       "      (norm1): UstaLayerNorm()\n",
       "      (mlp): UstaMLP(\n",
       "        (gate_proj): Linear(in_features=4, out_features=4, bias=True)\n",
       "        (up_proj): Linear(in_features=4, out_features=4, bias=True)\n",
       "        (down_proj): Linear(in_features=4, out_features=4, bias=True)\n",
       "        (gelu): GELU()\n",
       "      )\n",
       "      (norm2): UstaLayerNorm()\n",
       "    )\n",
       "    (2): UstaDecoderBlock(\n",
       "      (self_attention): UstaMultiHeadAttention(\n",
       "        (multi_head_attention): MultiheadAttention(\n",
       "          (out_proj): NonDynamicallyQuantizableLinear(in_features=4, out_features=4, bias=True)\n",
       "        )\n",
       "        (projection): Linear(in_features=4, out_features=4, bias=True)\n",
       "      )\n",
       "      (norm1): UstaLayerNorm()\n",
       "      (mlp): UstaMLP(\n",
       "        (gate_proj): Linear(in_features=4, out_features=4, bias=True)\n",
       "        (up_proj): Linear(in_features=4, out_features=4, bias=True)\n",
       "        (down_proj): Linear(in_features=4, out_features=4, bias=True)\n",
       "        (gelu): GELU()\n",
       "      )\n",
       "      (norm2): UstaLayerNorm()\n",
       "    )\n",
       "  )\n",
       "  (lm_head): Linear(in_features=4, out_features=64, bias=True)\n",
       ")"
      ]
     },
     "execution_count": 4,
     "metadata": {},
     "output_type": "execute_result"
    }
   ],
   "source": [
    "u_model"
   ]
  },
  {
   "cell_type": "code",
   "execution_count": 11,
   "metadata": {},
   "outputs": [
    {
     "data": {
      "text/plain": [
       "(tensor(0.1787, grad_fn=<MaxBackward0>),\n",
       " tensor(60),\n",
       " tensor([0.1006, 0.0152, 0.0036, 0.0015, 0.0022, 0.0039, 0.0260, 0.0109, 0.0025,\n",
       "         0.0020, 0.0027, 0.0039, 0.0032, 0.0396, 0.0098, 0.0215, 0.0015, 0.0100,\n",
       "         0.0085, 0.0031, 0.0175, 0.0081, 0.0016, 0.0053, 0.0360, 0.0019, 0.0030,\n",
       "         0.0100, 0.0338, 0.0011, 0.0139, 0.0030, 0.0009, 0.0014, 0.0014, 0.0054,\n",
       "         0.0088, 0.0241, 0.0248, 0.0363, 0.0747, 0.0049, 0.0077, 0.0056, 0.0050,\n",
       "         0.0842, 0.0018, 0.0055, 0.0081, 0.0064, 0.0109, 0.0030, 0.0196, 0.0234,\n",
       "         0.0038, 0.0033, 0.0021, 0.0093, 0.0023, 0.0149, 0.1787, 0.0038, 0.0043,\n",
       "         0.0060], grad_fn=<SoftmaxBackward0>))"
      ]
     },
     "execution_count": 11,
     "metadata": {},
     "output_type": "execute_result"
    }
   ],
   "source": [
    "import torch\n",
    "\n",
    "probs = torch.softmax(out[-1], dim=-1)\n",
    "max_prob, max_index = torch.max(probs, dim=-1)\n",
    "max_prob, max_index, probs"
   ]
  },
  {
   "cell_type": "code",
   "execution_count": 12,
   "metadata": {},
   "outputs": [
    {
     "name": "stderr",
     "output_type": "stream",
     "text": [
      "/Users/alibayram/.pyenv/versions/3.13.3/lib/python3.13/site-packages/tqdm/auto.py:21: TqdmWarning: IProgress not found. Please update jupyter and ipywidgets. See https://ipywidgets.readthedocs.io/en/stable/user_install.html\n",
      "  from .autonotebook import tqdm as notebook_tqdm\n"
     ]
    }
   ],
   "source": [
    "# Load model directly\n",
    "from transformers import AutoTokenizer, AutoModelForCausalLM\n",
    "\n",
    "q_tokenizer = AutoTokenizer.from_pretrained(\"Qwen/Qwen3-0.6B\")\n",
    "q_model = AutoModelForCausalLM.from_pretrained(\"Qwen/Qwen3-0.6B\")"
   ]
  },
  {
   "cell_type": "code",
   "execution_count": 16,
   "metadata": {},
   "outputs": [
    {
     "data": {
      "text/plain": [
       "[1782, 6722, 315, 28192]"
      ]
     },
     "execution_count": 16,
     "metadata": {},
     "output_type": "execute_result"
    }
   ],
   "source": [
    "q_tokens = q_tokenizer.encode(prompt)\n",
    "q_tokens"
   ]
  },
  {
   "cell_type": "code",
   "execution_count": 23,
   "metadata": {},
   "outputs": [
    {
     "data": {
      "text/plain": [
       "tensor([[ 1782,  6722,   315, 28192,  5302,   374,   279,  3283,   315, 93671,\n",
       "            11,   714,   279,  6722,   315,   279,  3146,   374,   537,   279,\n",
       "          6722,   315,   279,  1584]])"
      ]
     },
     "execution_count": 23,
     "metadata": {},
     "output_type": "execute_result"
    }
   ],
   "source": [
    "q_model.generate(torch.tensor([q_tokens]))"
   ]
  },
  {
   "cell_type": "code",
   "execution_count": null,
   "metadata": {},
   "outputs": [],
   "source": [
    "q_out = q_model(torch.tensor([q_tokens]))\n",
    "q_out"
   ]
  },
  {
   "cell_type": "code",
   "execution_count": 27,
   "metadata": {},
   "outputs": [
    {
     "data": {
      "text/plain": [
       "torch.Size([151936])"
      ]
     },
     "execution_count": 27,
     "metadata": {},
     "output_type": "execute_result"
    }
   ],
   "source": [
    "q_out.logits[0, -1, :].shape"
   ]
  },
  {
   "cell_type": "code",
   "execution_count": 28,
   "metadata": {},
   "outputs": [
    {
     "data": {
      "text/plain": [
       "(tensor(0.6295, grad_fn=<MaxBackward0>),\n",
       " tensor(5302),\n",
       " tensor([6.4543e-07, 5.2096e-06, 9.1405e-08,  ..., 1.7086e-10, 1.7086e-10,\n",
       "         1.7086e-10], grad_fn=<SoftmaxBackward0>))"
      ]
     },
     "execution_count": 28,
     "metadata": {},
     "output_type": "execute_result"
    }
   ],
   "source": [
    "probs = torch.softmax(q_out.logits[0, -1, :], dim=-1)\n",
    "max_prob, max_index = torch.max(probs, dim=-1)\n",
    "max_prob, max_index, probs"
   ]
  },
  {
   "cell_type": "code",
   "execution_count": 29,
   "metadata": {},
   "outputs": [
    {
     "data": {
      "text/plain": [
       "' states'"
      ]
     },
     "execution_count": 29,
     "metadata": {},
     "output_type": "execute_result"
    }
   ],
   "source": [
    "q_tokenizer.decode([max_index])"
   ]
  }
 ],
 "metadata": {
  "kernelspec": {
   "display_name": "Python 3",
   "language": "python",
   "name": "python3"
  },
  "language_info": {
   "codemirror_mode": {
    "name": "ipython",
    "version": 3
   },
   "file_extension": ".py",
   "mimetype": "text/x-python",
   "name": "python",
   "nbconvert_exporter": "python",
   "pygments_lexer": "ipython3",
   "version": "3.13.3"
  }
 },
 "nbformat": 4,
 "nbformat_minor": 2
}
